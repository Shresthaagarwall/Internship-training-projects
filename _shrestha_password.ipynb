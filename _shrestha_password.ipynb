{
 "cells": [
  {
   "cell_type": "code",
   "execution_count": 8,
   "id": "b11296ea-530f-434a-a4bd-437a710e8137",
   "metadata": {},
   "outputs": [
    {
     "name": "stdin",
     "output_type": "stream",
     "text": [
      "Enter the desired password length:  78\n"
     ]
    },
    {
     "name": "stdout",
     "output_type": "stream",
     "text": [
      "Generate Password: !>h-vLgQ[Wm4jX,4BzZ&F)Mx/?-AO?NQ?Q\"2;mbht#bf|H`Cv-I98|VW(^+{/exR@O;9_M[.2ry*if\n"
     ]
    }
   ],
   "source": [
    "import random\n",
    "import string\n",
    "def generate_password(length=8):\n",
    "    characters = string.ascii_letters + string.digits + string.punctuation\n",
    "    password = ''.join(random.choice(characters) for _ in range(length\n",
    "        ))\n",
    "    return password\n",
    "\n",
    "password_length = int(input(\"Enter the desired password length: \"))\n",
    "password = generate_password(password_length)\n",
    "print(\"Generate Password:\", password)"
   ]
  },
  {
   "cell_type": "code",
   "execution_count": null,
   "id": "20d8ddd7-eb2c-434c-ad55-557470a94968",
   "metadata": {},
   "outputs": [],
   "source": []
  }
 ],
 "metadata": {
  "kernelspec": {
   "display_name": "Python 3 (ipykernel)",
   "language": "python",
   "name": "python3"
  },
  "language_info": {
   "codemirror_mode": {
    "name": "ipython",
    "version": 3
   },
   "file_extension": ".py",
   "mimetype": "text/x-python",
   "name": "python",
   "nbconvert_exporter": "python",
   "pygments_lexer": "ipython3",
   "version": "3.11.7"
  }
 },
 "nbformat": 4,
 "nbformat_minor": 5
}
