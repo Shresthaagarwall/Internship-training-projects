{
 "cells": [
  {
   "cell_type": "code",
   "execution_count": null,
   "id": "b7670a64-515f-44f5-9c61-bc0530600c16",
   "metadata": {},
   "outputs": [],
   "source": [
    "import random\n",
    "user_choice=int(input(\"Enter your choice: Type 0 for Rock, 1 for paper, 2 for Scissors.\"))\n",
    "while True:\n",
    "    if user_choice>=3 or user_choice<0:\n",
    "        print(\"You entered the invalid number,you lose\")\n",
    "    else:\n",
    "        computer_choice=random.randint(0,2)\n",
    "        print(\"Computer chose: \")\n",
    "        print(computer_choice)\n",
    "        if computer_choice==user_choice:\n",
    "            print(\"It's a draw.\")\n",
    "        elif computer_choice == 0 and user_choice==2:\n",
    "            print(\"You lose\")\n",
    "        elif computer_choice==2 and user_choice==0:\n",
    "            print(\"You win.\")\n",
    "        elif computer_choice>user_choice:#2\n",
    "            print(\"You lose.\")\n",
    "        elif computer_choice<user_choice:\n",
    "            print(\"You win.\")\n",
    "    a=input(\"Do you want to play again or not?\")\n",
    "    if a!='yes':\n",
    "        break"
   ]
  },
  {
   "cell_type": "code",
   "execution_count": null,
   "id": "2875e5bb-42b4-4ec5-9c2f-f9617fc80e79",
   "metadata": {},
   "outputs": [],
   "source": []
  },
  {
   "cell_type": "code",
   "execution_count": null,
   "id": "af3e1cac-e81d-460c-b9d3-b2c7caf2c532",
   "metadata": {},
   "outputs": [],
   "source": []
  },
  {
   "cell_type": "code",
   "execution_count": null,
   "id": "6b0a6670-6c5f-4010-a371-941f916c0325",
   "metadata": {},
   "outputs": [],
   "source": []
  },
  {
   "cell_type": "code",
   "execution_count": null,
   "id": "39eaf24d-b5f6-4902-8c5c-f089d2b53f03",
   "metadata": {},
   "outputs": [],
   "source": []
  }
 ],
 "metadata": {
  "kernelspec": {
   "display_name": "Python 3 (ipykernel)",
   "language": "python",
   "name": "python3"
  },
  "language_info": {
   "codemirror_mode": {
    "name": "ipython",
    "version": 3
   },
   "file_extension": ".py",
   "mimetype": "text/x-python",
   "name": "python",
   "nbconvert_exporter": "python",
   "pygments_lexer": "ipython3",
   "version": "3.11.7"
  }
 },
 "nbformat": 4,
 "nbformat_minor": 5
}
